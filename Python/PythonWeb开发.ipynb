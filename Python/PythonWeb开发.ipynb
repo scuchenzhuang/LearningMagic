{
 "cells": [
  {
   "cell_type": "code",
   "execution_count": null,
   "metadata": {},
   "outputs": [],
   "source": []
  },
  {
   "cell_type": "markdown",
   "metadata": {},
   "source": [
    "###flask实战\n",
    "\n",
    "*   初始需求：浏览器=>get请求给flask=>显示页面\n",
    "*   flask支持将一些数据/python代码嵌套进入前端Html"
   ]
  }
 ],
 "metadata": {
  "language_info": {
   "name": "python"
  },
  "orig_nbformat": 4
 },
 "nbformat": 4,
 "nbformat_minor": 2
}
