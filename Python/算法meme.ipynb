{
 "cells": [
  {
   "cell_type": "markdown",
   "metadata": {},
   "source": [
    "### leetcode 795\n",
    "*   给你一个整数数组 nums 和两个整数：left 及 right 。找出 nums 中连续、非空且其中最大元素在范围 [left, right] 内的子数组，并返回满足条件的子数组的个数。\n",
    "    *   hint : 单调栈 + 贡献法\n"
   ]
  },
  {
   "cell_type": "code",
   "execution_count": 3,
   "metadata": {},
   "outputs": [
    {
     "data": {
      "text/plain": [
       "7"
      ]
     },
     "execution_count": 3,
     "metadata": {},
     "output_type": "execute_result"
    }
   ],
   "source": [
    "'''常见单调栈解法'''\n",
    "def numSubarrayBoundedMax(nums, left, right) -> int:\n",
    "        n = len(nums)\n",
    "        l = [-1] * n\n",
    "        r = [n] * n\n",
    "        stk = []\n",
    "        #此处代码的含义是找到 对于nums[i]的左边的第一个大于nums[i]的数的坐标，使用了一个单调栈\n",
    "        for i,num in enumerate(nums):\n",
    "            while stk and nums[stk[-1]] <= num:\n",
    "                stk.pop()\n",
    "            if stk:\n",
    "                l[i] = stk[-1]\n",
    "            stk.append(i)\n",
    "        #此处代码的含义是 接下来从右向左开始循环，更换顺序，找到右边第一个大于nums[i]的坐标，需要注意到此时，若nums[i]==栈顶的元素，需要留下。这是和之前的左单调进行个对应\n",
    "        #也就是俗称的为了防止重复计算，前面加上后 后面就不加上了\n",
    "        stk = []\n",
    "        for i in range(n-1,-1,-1):\n",
    "            while stk and nums[stk[-1]] < nums[i]:\n",
    "                stk.pop()\n",
    "            if stk:\n",
    "                r[i] = stk[-1]\n",
    "            stk.append(i)\n",
    "        ans = 0\n",
    "        for i in range(n):\n",
    "            ans += (r[i]-i) * (i-l[i])\n",
    "        return sum((i - l[i]) * (r[i] - i) for i, v in enumerate(nums) if left <= v <= right)\n",
    "numSubarrayBoundedMax([2,9,2,5,6],2,8)"
   ]
  }
 ],
 "metadata": {
  "kernelspec": {
   "display_name": "Python 3.8.8 ('base')",
   "language": "python",
   "name": "python3"
  },
  "language_info": {
   "codemirror_mode": {
    "name": "ipython",
    "version": 3
   },
   "file_extension": ".py",
   "mimetype": "text/x-python",
   "name": "python",
   "nbconvert_exporter": "python",
   "pygments_lexer": "ipython3",
   "version": "3.8.8"
  },
  "orig_nbformat": 4,
  "vscode": {
   "interpreter": {
    "hash": "e42634819b8c191a5d07eaf23810ff32516dd8d3875f28ec3e488928fbd3c187"
   }
  }
 },
 "nbformat": 4,
 "nbformat_minor": 2
}
