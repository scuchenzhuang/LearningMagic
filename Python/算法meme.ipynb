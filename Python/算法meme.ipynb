{
 "cells": [
  {
   "cell_type": "markdown",
   "metadata": {},
   "source": [
    "### leetcode 795\n",
    "*   给你一个整数数组 nums 和两个整数：left 及 right 。找出 nums 中连续、非空且其中最大元素在范围 [left, right] 内的子数组，并返回满足条件的子数组的个数。\n",
    "    *   hint : 单调栈 + 贡献法\n",
    "    *   我们还可以枚举数组中每个元素 nums[i]nums[i] 作为子数组的最大值，然后统计以该元素为最大值的子数组的个数。问题转化为求出每个元素 nums[i]nums[i] 左侧第一个大于该元素的下标 l[i]l[i]，右侧第一个大于等于该元素的下标 r[i]r[i]，则以该元素为最大值的子数组的个数为 (i - l[i]) \\times (r[i] - i)(i−l[i])×(r[i]−i)。\n",
    "\n"
   ]
  },
  {
   "cell_type": "code",
   "execution_count": 3,
   "metadata": {},
   "outputs": [
    {
     "data": {
      "text/plain": [
       "7"
      ]
     },
     "execution_count": 3,
     "metadata": {},
     "output_type": "execute_result"
    }
   ],
   "source": [
    "'''常见单调栈解法'''\n",
    "def numSubarrayBoundedMax(nums, left, right) -> int:\n",
    "        n = len(nums)\n",
    "        l = [-1] * n\n",
    "        r = [n] * n\n",
    "        stk = []\n",
    "        #此处代码的含义是找到 对于nums[i]的左边的第一个大于nums[i]的数的坐标，使用了一个单调栈\n",
    "        for i,num in enumerate(nums):\n",
    "            while stk and nums[stk[-1]] <= num:\n",
    "                stk.pop()\n",
    "            if stk:\n",
    "                l[i] = stk[-1]\n",
    "            stk.append(i)\n",
    "        #此处代码的含义是 接下来从右向左开始循环，更换顺序，找到右边第一个大于nums[i]的坐标，需要注意到此时，若nums[i]==栈顶的元素，需要留下。这是和之前的左单调进行个对应\n",
    "        #也就是俗称的为了防止重复计算，前面加上后 后面就不加上了\n",
    "        stk = []\n",
    "        for i in range(n-1,-1,-1):\n",
    "            while stk and nums[stk[-1]] < nums[i]:\n",
    "                stk.pop()\n",
    "            if stk:\n",
    "                r[i] = stk[-1]\n",
    "            stk.append(i)\n",
    "        ans = 0\n",
    "        for i in range(n):\n",
    "            ans += (r[i]-i) * (i-l[i])\n",
    "        return sum((i - l[i]) * (r[i] - i) for i, v in enumerate(nums) if left <= v <= right)\n",
    "numSubarrayBoundedMax([2,9,2,5,6],2,8)"
   ]
  },
  {
   "cell_type": "markdown",
   "metadata": {},
   "source": [
    "### LeetCode 895 大顶堆+数据结构设计\n",
    "*   计一个类似堆栈的数据结构，将元素推入堆栈，并从堆栈中弹出出现频率最高的元素。\n",
    "    * 实现 FreqStack 类:\n",
    "        * FreqStack() 构造一个空的堆栈。\n",
    "        * void push(int val) 将一个整数 val 压入栈顶。\n",
    "        * int pop() 删除并返回堆栈中出现频率最高的元素。\n",
    "        * 如果出现频率最高的元素不只一个，则移除并返回最接近栈顶的元素。\n",
    "\n"
   ]
  },
  {
   "cell_type": "code",
   "execution_count": 5,
   "metadata": {},
   "outputs": [
    {
     "name": "stdout",
     "output_type": "stream",
     "text": [
      "6\n",
      "5\n"
     ]
    }
   ],
   "source": [
    "from collections import defaultdict \n",
    "import heapq\n",
    "class FreqStack:\n",
    "    #引入时间戳概念，制造一个hashmap作为时间的表达，接着压栈时引入时间戳，时间戳越晚就越优先弹出。然后次数越高就越优先弹出。\n",
    "    #heapq是基于小顶堆，即父节点更小，而我们此时需要构建大顶堆，父节点更大，所以需要取反\n",
    "    def __init__(self):\n",
    "        self.ts = 0\n",
    "        self.map = defaultdict(int)\n",
    "        self.q = []\n",
    "\n",
    "\n",
    "    def push(self, val: int) -> None:\n",
    "        self.ts += 1\n",
    "        self.map[val] += 1\n",
    "        heapq.heappush(self.q,(-self.map[val],-self.ts,val))\n",
    "\n",
    "\n",
    "    def pop(self) -> int:\n",
    "        target = heapq.heappop(self.q)\n",
    "        self.map[target[2]] -= 1\n",
    "        return target[2]\n",
    "\n",
    "tmp_freqstack = FreqStack()\n",
    "tmp_freqstack.push(5)\n",
    "tmp_freqstack.push(4)\n",
    "tmp_freqstack.push(5)\n",
    "tmp_freqstack.push(6)\n",
    "tmp_freqstack.push(6)\n",
    "print(tmp_freqstack.pop())\n",
    "print(tmp_freqstack.pop())\n"
   ]
  }
 ],
 "metadata": {
  "kernelspec": {
   "display_name": "Python 3.8.8 ('base')",
   "language": "python",
   "name": "python3"
  },
  "language_info": {
   "codemirror_mode": {
    "name": "ipython",
    "version": 3
   },
   "file_extension": ".py",
   "mimetype": "text/x-python",
   "name": "python",
   "nbconvert_exporter": "python",
   "pygments_lexer": "ipython3",
   "version": "3.8.8"
  },
  "orig_nbformat": 4,
  "vscode": {
   "interpreter": {
    "hash": "e42634819b8c191a5d07eaf23810ff32516dd8d3875f28ec3e488928fbd3c187"
   }
  }
 },
 "nbformat": 4,
 "nbformat_minor": 2
}